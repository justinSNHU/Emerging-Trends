{
 "cells": [
  {
   "cell_type": "markdown",
   "metadata": {},
   "source": [
    "# Treasure Hunt Game Notebook\n",
    "\n",
    "## Read and Review Your Starter Code\n",
    "The theme of this project is a popular treasure hunt game in which the player needs to find the treasure before the pirate does. While you will not be developing the entire game, you will write the part of the game that represents the intelligent agent, which is a pirate in this case. The pirate will try to find the optimal path to the treasure using deep Q-learning. \n",
    "\n",
    "You have been provided with two Python classes and this notebook to help you with this assignment. The first class, TreasureMaze.py, represents the environment, which includes a maze object defined as a matrix. The second class, GameExperience.py, stores the episodes – that is, all the states that come in between the initial state and the terminal state. This is later used by the agent for learning by experience, called \"exploration\". This notebook shows how to play a game. Your task is to complete the deep Q-learning implementation for which a skeleton implementation has been provided. The code blocks you will need to complete has #TODO as a header.\n",
    "\n",
    "First, read and review the next few code and instruction blocks to understand the code that you have been given."
   ]
  },
  {
   "cell_type": "code",
   "execution_count": 1,
   "metadata": {},
   "outputs": [
    {
     "name": "stderr",
     "output_type": "stream",
     "text": [
      "Using TensorFlow backend.\n"
     ]
    }
   ],
   "source": [
    "from __future__ import print_function\n",
    "import os, sys, time, datetime, json, random\n",
    "import numpy as np\n",
    "from keras.models import Sequential\n",
    "from keras.layers.core import Dense, Activation\n",
    "from keras.optimizers import SGD , Adam, RMSprop\n",
    "from keras.layers.advanced_activations import PReLU\n",
    "import matplotlib.pyplot as plt\n",
    "from TreasureMaze import TreasureMaze\n",
    "from GameExperience import GameExperience\n",
    "%matplotlib inline"
   ]
  },
  {
   "cell_type": "markdown",
   "metadata": {},
   "source": [
    "The following code block contains an 8x8 matrix that will be used as a maze object:"
   ]
  },
  {
   "cell_type": "code",
   "execution_count": 2,
   "metadata": {},
   "outputs": [],
   "source": [
    "maze = np.array([\n",
    "    [ 1.,  0.,  1.,  1.,  1.,  1.,  1.,  1.],\n",
    "    [ 1.,  0.,  1.,  1.,  1.,  0.,  1.,  1.],\n",
    "    [ 1.,  1.,  1.,  1.,  0.,  1.,  0.,  1.],\n",
    "    [ 1.,  1.,  1.,  0.,  1.,  1.,  1.,  1.],\n",
    "    [ 1.,  1.,  0.,  1.,  1.,  1.,  1.,  1.],\n",
    "    [ 1.,  1.,  1.,  0.,  1.,  0.,  0.,  0.],\n",
    "    [ 1.,  1.,  1.,  0.,  1.,  1.,  1.,  1.],\n",
    "    [ 1.,  1.,  1.,  1.,  0.,  1.,  1.,  1.]\n",
    "])"
   ]
  },
  {
   "cell_type": "markdown",
   "metadata": {},
   "source": [
    "This helper function allows a visual representation of the maze object:"
   ]
  },
  {
   "cell_type": "code",
   "execution_count": 3,
   "metadata": {},
   "outputs": [],
   "source": [
    "def show(qmaze):\n",
    "    plt.grid('on')\n",
    "    nrows, ncols = qmaze.maze.shape\n",
    "    ax = plt.gca()\n",
    "    ax.set_xticks(np.arange(0.5, nrows, 1))\n",
    "    ax.set_yticks(np.arange(0.5, ncols, 1))\n",
    "    ax.set_xticklabels([])\n",
    "    ax.set_yticklabels([])\n",
    "    canvas = np.copy(qmaze.maze)\n",
    "    for row,col in qmaze.visited:\n",
    "        canvas[row,col] = 0.6\n",
    "    pirate_row, pirate_col, _ = qmaze.state\n",
    "    canvas[pirate_row, pirate_col] = 0.3   # pirate cell\n",
    "    canvas[nrows-1, ncols-1] = 0.9 # treasure cell\n",
    "    img = plt.imshow(canvas, interpolation='none', cmap='gray')\n",
    "    return img"
   ]
  },
  {
   "cell_type": "markdown",
   "metadata": {},
   "source": [
    "The pirate agent can move in four directions: left, right, up, and down. \n",
    "\n",
    "While the agent primarily learns by experience through exploitation, often, the agent can choose to explore the environment to find previously undiscovered paths. This is called \"exploration\" and is defined by epsilon. This value is typically a lower value such as 0.1, which means for every ten attempts, the agent will attempt to learn by experience nine times and will randomly explore a new path one time. You are encouraged to try various values for the exploration factor and see how the algorithm performs."
   ]
  },
  {
   "cell_type": "code",
   "execution_count": 4,
   "metadata": {},
   "outputs": [],
   "source": [
    "LEFT = 0\n",
    "UP = 1\n",
    "RIGHT = 2\n",
    "DOWN = 3\n",
    "\n",
    "\n",
    "# Exploration factor\n",
    "epsilon = 0.1\n",
    "\n",
    "# Actions dictionary\n",
    "actions_dict = {\n",
    "    LEFT: 'left',\n",
    "    UP: 'up',\n",
    "    RIGHT: 'right',\n",
    "    DOWN: 'down',\n",
    "}\n",
    "\n",
    "num_actions = len(actions_dict)\n"
   ]
  },
  {
   "cell_type": "markdown",
   "metadata": {},
   "source": [
    "The sample code block and output below show creating a maze object and performing one action (DOWN), which returns the reward. The resulting updated environment is visualized."
   ]
  },
  {
   "cell_type": "code",
   "execution_count": 5,
   "metadata": {},
   "outputs": [
    {
     "name": "stdout",
     "output_type": "stream",
     "text": [
      "reward= -0.04\n"
     ]
    },
    {
     "data": {
      "text/plain": [
       "<matplotlib.image.AxesImage at 0x2206ac41c88>"
      ]
     },
     "execution_count": 5,
     "metadata": {},
     "output_type": "execute_result"
    },
    {
     "data": {
      "image/png": "[encoded data removed]",
      "text/plain": [
       "<Figure size 432x288 with 1 Axes>"
      ]
     },
     "metadata": {
      "needs_background": "light"
     },
     "output_type": "display_data"
    }
   ],
   "source": [
    "qmaze = TreasureMaze(maze)\n",
    "canvas, reward, game_over = qmaze.act(DOWN)\n",
    "print(\"reward=\", reward)\n",
    "show(qmaze)"
   ]
  },
  {
   "cell_type": "markdown",
   "metadata": {},
   "source": [
    "This function simulates a full game based on the provided trained model. The other parameters include the TreasureMaze object and the starting position of the pirate."
   ]
  },
  {
   "cell_type": "code",
   "execution_count": 6,
   "metadata": {},
   "outputs": [],
   "source": [
    "def play_game(model, qmaze, pirate_cell):\n",
    "    qmaze.reset(pirate_cell)\n",
    "    envstate = qmaze.observe()\n",
    "    while True:\n",
    "        prev_envstate = envstate\n",
    "        # get next action\n",
    "        q = model.predict(prev_envstate)\n",
    "        action = np.argmax(q[0])\n",
    "\n",
    "        # apply action, get rewards and new state\n",
    "        envstate, reward, game_status = qmaze.act(action)\n",
    "        if game_status == 'win':\n",
    "            return True\n",
    "        elif game_status == 'lose':\n",
    "            return False"
   ]
  },
  {
   "cell_type": "markdown",
   "metadata": {},
   "source": [
    "This function helps you to determine whether the pirate can win any game at all. If your maze is not well designed, the pirate may not win any game at all. In this case, your training would not yield any result. The provided maze in this notebook ensures that there is a path to win and you can run this method to check."
   ]
  },
  {
   "cell_type": "code",
   "execution_count": 7,
   "metadata": {},
   "outputs": [],
   "source": [
    "def completion_check(model, qmaze):\n",
    "    for cell in qmaze.free_cells:\n",
    "        if not qmaze.valid_actions(cell):\n",
    "            return False\n",
    "        if not play_game(model, qmaze, cell):\n",
    "            return False\n",
    "    return True"
   ]
  },
  {
   "cell_type": "markdown",
   "metadata": {},
   "source": [
    "The code you have been given in this block will build the neural network model. Review the code and note the number of layers, as well as the activation, optimizer, and loss functions that are used to train the model."
   ]
  },
  {
   "cell_type": "code",
   "execution_count": 8,
   "metadata": {},
   "outputs": [],
   "source": [
    "def build_model(maze):\n",
    "    model = Sequential()\n",
    "    model.add(Dense(maze.size, input_shape=(maze.size,)))\n",
    "    model.add(PReLU())\n",
    "    model.add(Dense(maze.size))\n",
    "    model.add(PReLU())\n",
    "    model.add(Dense(num_actions))\n",
    "    model.compile(optimizer='adam', loss='mse')\n",
    "    return model"
   ]
  },
  {
   "cell_type": "markdown",
   "metadata": {},
   "source": [
    "# #TODO: Complete the Q-Training Algorithm Code Block\n",
    "\n",
    "This is your deep Q-learning implementation. The goal of your deep Q-learning implementation is to find the best possible navigation sequence that results in reaching the treasure cell while maximizing the reward. In your implementation, you need to determine the optimal number of epochs to achieve a 100% win rate.\n",
    "\n",
    "You will need to complete the section starting with #pseudocode. The pseudocode has been included for you."
   ]
  },
  {
   "cell_type": "code",
   "execution_count": 9,
   "metadata": {},
   "outputs": [],
   "source": [
    "def qtrain(model, maze, **opt):\n",
    "\n",
    "    # exploration factor\n",
    "    global epsilon \n",
    "\n",
    "    # number of epochs\n",
    "    n_epoch = opt.get('n_epoch', 15000)\n",
    "\n",
    "    # maximum memory to store episodes\n",
    "    max_memory = opt.get('max_memory', 1000)\n",
    "\n",
    "    # maximum data size for training\n",
    "    data_size = opt.get('data_size', 50)\n",
    "\n",
    "    # start time\n",
    "    start_time = datetime.datetime.now()\n",
    "\n",
    "    # Construct environment/game from numpy array: maze (see above)\n",
    "    qmaze = TreasureMaze(maze)\n",
    "\n",
    "    # Initialize experience replay object\n",
    "    experience = GameExperience(model, max_memory=max_memory)\n",
    "    \n",
    "    win_history = []   # history of win/lose game\n",
    "    hsize = qmaze.maze.size//2   # history window size\n",
    "    win_rate = 0.0\n",
    "     \n",
    "    # pseudocode:\n",
    "    # For each epoch:\n",
    "    #    Agent_cell = randomly select a free cell\n",
    "    #    Reset the maze with agent set to above position\n",
    "    #    Hint: Review the reset method in the TreasureMaze.py class.\n",
    "    #    envstate = Environment.current_state\n",
    "    #    Hint: Review the observe method in the TreasureMaze.py class.\n",
    "    #    While state is not game over:\n",
    "    #        previous_envstate = envstate\n",
    "    #        Action = randomly choose action (left, right, up, down) either by exploration or by exploitation\n",
    "    #        envstate, reward, game_status = qmaze.act(action)\n",
    "    #    Hint: Review the act method in the TreasureMaze.py class.\n",
    "    #        episode = [previous_envstate, action, reward, envstate, game_status]\n",
    "    #        Store episode in Experience replay object\n",
    "    #    Hint: Review the remember method in the GameExperience.py class.\n",
    "    #        Train neural network model and evaluate loss\n",
    "    #    Hint: Call GameExperience.get_data to retrieve training data (input and target) and pass to model.fit method \n",
    "    #          to train the model. You can call model.evaluate to determine loss.\n",
    "    #    If the win rate is above the threshold and your model passes the completion check, that would be your epoch.\n",
    "    \n",
    "    # For each epoch:\n",
    "    for epoch in range(n_epoch):\n",
    "        game_over = False\n",
    "        loss=0.0\n",
    "        n_episodes = 0\n",
    "        \n",
    "        #    Agent_cell = randomly select a free cell\n",
    "        Agent_cell = random.choice(qmaze.free_cells)\n",
    "        \n",
    "        #    Reset the maze with agent set to above position\n",
    "        #    Hint: Review the reset method in the TreasureMaze.py class.\n",
    "        qmaze.reset(Agent_cell)\n",
    "        \n",
    "        #    envstate = Environment.current_state\n",
    "        #    Hint: Review the observe method in the TreasureMaze.py class.\n",
    "        envstate = qmaze.observe()\n",
    "    \n",
    "        #    While state is not game over:\n",
    "        while not game_over:\n",
    "            #        previous_envstate = envstate\n",
    "            previous_envstate = envstate\n",
    "            \n",
    "            #        Action = randomly choose action (left, right, up, down) either by exploration or by exploitation\n",
    "            valid_actions = qmaze.valid_actions()\n",
    "            if not valid_actions:\n",
    "                break\n",
    "            \n",
    "            if np.random.rand() < epsilon:\n",
    "                Action = random.choice(valid_actions)\n",
    "            else:\n",
    "                Action = np.argmax(experience.predict(envstate))  \n",
    "            \n",
    "            #        envstate, reward, game_status = qmaze.act(action)\n",
    "            #    Hint: Review the act method in the TreasureMaze.py class.\n",
    "            envstate, reward, game_status = qmaze.act(Action)\n",
    "            \n",
    "            # deterrmine whether the game is over or not and append to win_history if win or lose\n",
    "            if game_status == 'win':\n",
    "                win_history.append(1)\n",
    "                game_over = True \n",
    "            elif game_status == 'lose':\n",
    "                win_history.append(0)\n",
    "                game_over = True  \n",
    "            else: \n",
    "                game_over = False \n",
    "                \n",
    "            #        episode = [previous_envstate, action, reward, envstate, game_status]\n",
    "            episode = [previous_envstate, Action, reward, envstate, game_status]\n",
    "            \n",
    "            #increase the number of episodes by 1\n",
    "            n_episodes += 1\n",
    "            \n",
    "            #        Store episode in Experience replay object\n",
    "            #    Hint: Review the remember method in the GameExperience.py class.\n",
    "            experience.remember(episode)\n",
    "            \n",
    "            #    Train neural network model and evaluate loss\n",
    "            #    Hint: Call GameExperience.get_data to retrieve training data (input and target) \n",
    "            #    and pass to model.fit method to train model.\n",
    "            inputs, targets = experience.get_data(data_size=data_size) \n",
    "            model.fit(inputs, targets, epochs=12, batch_size=32, verbose=0)\n",
    "            \n",
    "            #    You can call model.evaluate to determine loss.\n",
    "            loss += model.evaluate(inputs, targets, verbose=0)  \n",
    "            \n",
    "        #    If the win rate is above the threshold and your model passes the completion check, that would be your epoch.\n",
    "        \n",
    "        # if there are enough data points to calculate win_rate\n",
    "        if len(win_history) > hsize:\n",
    "            # Calculate the win_rate\n",
    "            win_rate = sum(win_history[-hsize:]) / hsize\n",
    "                         \n",
    "        #Print the epoch, loss, episodes, win count, and win rate for each epoch\n",
    "        dt = datetime.datetime.now() - start_time\n",
    "        t = format_time(dt.total_seconds())\n",
    "        template = \"Epoch: {:03d}/{:d} | Loss: {:.4f} | Episodes: {:d} | Win count: {:d} | Win rate: {:.3f} | time: {}\"\n",
    "        print(template.format(epoch, n_epoch-1, loss, n_episodes, sum(win_history), win_rate, t))\n",
    "        \n",
    "        # We simply check if training has exhausted all free cells and if in all\n",
    "        # cases the agent won.\n",
    "        if win_rate > 0.9 : epsilon = 0.05\n",
    "        if sum(win_history[-hsize:]) == hsize and completion_check(model, qmaze):\n",
    "            print(\"Reached 100%% win rate at epoch: %d\" % (epoch,))\n",
    "            break\n",
    "            \n",
    "    # Determine the total time for training\n",
    "    dt = datetime.datetime.now() - start_time\n",
    "    seconds = dt.total_seconds()\n",
    "    t = format_time(seconds)\n",
    "    print(\"n_epoch: %d, max_mem: %d, data: %d, time: %s\" % (epoch, max_memory, data_size, t))\n",
    "    return seconds\n",
    "\n",
    "# This is a small utility for printing readable time strings:\n",
    "def format_time(seconds):\n",
    "    if seconds < 400:\n",
    "        s = float(seconds)\n",
    "        return \"%.1f seconds\" % (s,)\n",
    "    elif seconds < 4000:\n",
    "        m = seconds / 60.0\n",
    "        return \"%.2f minutes\" % (m,)\n",
    "    else:\n",
    "        h = seconds / 3600.0\n",
    "        return \"%.2f hours\" % (h,)"
   ]
  },
  {
   "cell_type": "markdown",
   "metadata": {},
   "source": [
    "## Test Your Model\n",
    "\n",
    "Now we will start testing the deep Q-learning implementation. To begin, select **Cell**, then **Run All** from the menu bar. This will run your notebook. As it runs, you should see output begin to appear beneath the next few cells. The code below creates an instance of TreasureMaze."
   ]
  },
  {
   "cell_type": "code",
   "execution_count": 10,
   "metadata": {},
   "outputs": [
    {
     "data": {
      "text/plain": [
       "<matplotlib.image.AxesImage at 0x2206bcd9208>"
      ]
     },
     "execution_count": 10,
     "metadata": {},
     "output_type": "execute_result"
    },
    {
     "data": {
      "image/png": "[encoded data removed]",
      "text/plain": [
       "<Figure size 432x288 with 1 Axes>"
      ]
     },
     "metadata": {
      "needs_background": "light"
     },
     "output_type": "display_data"
    }
   ],
   "source": [
    "qmaze = TreasureMaze(maze)\n",
    "show(qmaze)"
   ]
  },
  {
   "cell_type": "markdown",
   "metadata": {},
   "source": [
    "In the next code block, you will build your model and train it using deep Q-learning. Note: This step takes several minutes to fully run."
   ]
  },
  {
   "cell_type": "code",
   "execution_count": 11,
   "metadata": {},
   "outputs": [
    {
     "name": "stdout",
     "output_type": "stream",
     "text": [
      "Epoch: 000/14999 | Loss: 0.0031 | Episodes: 1 | Win count: 1 | Win rate: 0.000 | time: 1.4 seconds\n",
      "Epoch: 001/14999 | Loss: 0.4062 | Episodes: 138 | Win count: 1 | Win rate: 0.000 | time: 32.0 seconds\n",
      "Epoch: 002/14999 | Loss: 0.0898 | Episodes: 145 | Win count: 1 | Win rate: 0.000 | time: 74.4 seconds\n",
      "Epoch: 003/14999 | Loss: 0.0779 | Episodes: 133 | Win count: 1 | Win rate: 0.000 | time: 96.9 seconds\n",
      "Epoch: 004/14999 | Loss: 0.0677 | Episodes: 135 | Win count: 1 | Win rate: 0.000 | time: 117.3 seconds\n",
      "Epoch: 005/14999 | Loss: 0.0691 | Episodes: 139 | Win count: 1 | Win rate: 0.000 | time: 138.4 seconds\n",
      "Epoch: 006/14999 | Loss: 0.0047 | Episodes: 12 | Win count: 2 | Win rate: 0.000 | time: 140.5 seconds\n",
      "Epoch: 007/14999 | Loss: 0.1238 | Episodes: 144 | Win count: 2 | Win rate: 0.000 | time: 162.1 seconds\n",
      "Epoch: 008/14999 | Loss: 0.0881 | Episodes: 134 | Win count: 2 | Win rate: 0.000 | time: 181.6 seconds\n",
      "Epoch: 009/14999 | Loss: 0.0712 | Episodes: 136 | Win count: 2 | Win rate: 0.000 | time: 203.7 seconds\n",
      "Epoch: 010/14999 | Loss: 0.0553 | Episodes: 130 | Win count: 2 | Win rate: 0.000 | time: 233.3 seconds\n",
      "Epoch: 011/14999 | Loss: 0.0358 | Episodes: 134 | Win count: 2 | Win rate: 0.000 | time: 251.1 seconds\n",
      "Epoch: 012/14999 | Loss: 0.0457 | Episodes: 140 | Win count: 2 | Win rate: 0.000 | time: 270.9 seconds\n",
      "Epoch: 013/14999 | Loss: 0.0683 | Episodes: 154 | Win count: 2 | Win rate: 0.000 | time: 291.5 seconds\n",
      "Epoch: 014/14999 | Loss: 0.0290 | Episodes: 50 | Win count: 3 | Win rate: 0.000 | time: 298.3 seconds\n",
      "Epoch: 015/14999 | Loss: 0.0473 | Episodes: 35 | Win count: 4 | Win rate: 0.000 | time: 303.3 seconds\n",
      "Epoch: 016/14999 | Loss: 0.0059 | Episodes: 9 | Win count: 5 | Win rate: 0.000 | time: 304.6 seconds\n",
      "Epoch: 017/14999 | Loss: 0.0007 | Episodes: 1 | Win count: 6 | Win rate: 0.000 | time: 304.7 seconds\n",
      "Epoch: 018/14999 | Loss: 0.0483 | Episodes: 39 | Win count: 7 | Win rate: 0.000 | time: 310.5 seconds\n",
      "Epoch: 019/14999 | Loss: 0.0343 | Episodes: 33 | Win count: 8 | Win rate: 0.000 | time: 320.1 seconds\n",
      "Epoch: 020/14999 | Loss: 0.0317 | Episodes: 32 | Win count: 9 | Win rate: 0.000 | time: 330.1 seconds\n",
      "Epoch: 021/14999 | Loss: 0.0100 | Episodes: 12 | Win count: 10 | Win rate: 0.000 | time: 333.6 seconds\n",
      "Epoch: 022/14999 | Loss: 0.0150 | Episodes: 13 | Win count: 11 | Win rate: 0.000 | time: 337.2 seconds\n",
      "Epoch: 023/14999 | Loss: 0.0304 | Episodes: 32 | Win count: 12 | Win rate: 0.000 | time: 346.1 seconds\n",
      "Epoch: 024/14999 | Loss: 0.0252 | Episodes: 26 | Win count: 13 | Win rate: 0.000 | time: 354.0 seconds\n",
      "Epoch: 025/14999 | Loss: 0.0280 | Episodes: 30 | Win count: 14 | Win rate: 0.000 | time: 363.3 seconds\n",
      "Epoch: 026/14999 | Loss: 0.0330 | Episodes: 39 | Win count: 15 | Win rate: 0.000 | time: 374.6 seconds\n",
      "Epoch: 027/14999 | Loss: 0.0151 | Episodes: 17 | Win count: 16 | Win rate: 0.000 | time: 377.6 seconds\n",
      "Epoch: 028/14999 | Loss: 0.0191 | Episodes: 21 | Win count: 17 | Win rate: 0.000 | time: 380.4 seconds\n",
      "Epoch: 029/14999 | Loss: 0.0181 | Episodes: 21 | Win count: 18 | Win rate: 0.000 | time: 383.4 seconds\n",
      "Epoch: 030/14999 | Loss: 0.0288 | Episodes: 31 | Win count: 19 | Win rate: 0.000 | time: 387.7 seconds\n",
      "Epoch: 031/14999 | Loss: 0.0171 | Episodes: 22 | Win count: 20 | Win rate: 0.000 | time: 390.7 seconds\n",
      "Epoch: 032/14999 | Loss: 0.0088 | Episodes: 10 | Win count: 21 | Win rate: 0.625 | time: 392.5 seconds\n",
      "Epoch: 033/14999 | Loss: 0.0177 | Episodes: 20 | Win count: 22 | Win rate: 0.656 | time: 396.0 seconds\n",
      "Epoch: 034/14999 | Loss: 0.0021 | Episodes: 2 | Win count: 23 | Win rate: 0.688 | time: 396.5 seconds\n",
      "Epoch: 035/14999 | Loss: 0.0045 | Episodes: 10 | Win count: 24 | Win rate: 0.719 | time: 397.9 seconds\n",
      "Epoch: 036/14999 | Loss: 0.0087 | Episodes: 12 | Win count: 25 | Win rate: 0.750 | time: 399.6 seconds\n",
      "Epoch: 037/14999 | Loss: 0.0097 | Episodes: 15 | Win count: 26 | Win rate: 0.781 | time: 6.70 minutes\n",
      "Epoch: 038/14999 | Loss: 0.0130 | Episodes: 19 | Win count: 27 | Win rate: 0.781 | time: 6.74 minutes\n",
      "Epoch: 039/14999 | Loss: 0.0241 | Episodes: 40 | Win count: 28 | Win rate: 0.812 | time: 6.83 minutes\n",
      "Epoch: 040/14999 | Loss: 0.0101 | Episodes: 17 | Win count: 29 | Win rate: 0.844 | time: 6.87 minutes\n",
      "Epoch: 041/14999 | Loss: 0.0010 | Episodes: 1 | Win count: 30 | Win rate: 0.875 | time: 6.87 minutes\n",
      "Epoch: 042/14999 | Loss: 0.0231 | Episodes: 41 | Win count: 31 | Win rate: 0.906 | time: 6.97 minutes\n",
      "Epoch: 043/14999 | Loss: 0.0127 | Episodes: 21 | Win count: 32 | Win rate: 0.938 | time: 7.02 minutes\n",
      "Epoch: 044/14999 | Loss: 0.0065 | Episodes: 12 | Win count: 33 | Win rate: 0.969 | time: 7.05 minutes\n",
      "Epoch: 045/14999 | Loss: 0.0055 | Episodes: 11 | Win count: 34 | Win rate: 1.000 | time: 7.08 minutes\n",
      "Epoch: 046/14999 | Loss: 0.0095 | Episodes: 26 | Win count: 35 | Win rate: 1.000 | time: 7.14 minutes\n",
      "Epoch: 047/14999 | Loss: 0.0281 | Episodes: 67 | Win count: 36 | Win rate: 1.000 | time: 7.28 minutes\n",
      "Epoch: 048/14999 | Loss: 0.0010 | Episodes: 2 | Win count: 37 | Win rate: 1.000 | time: 7.29 minutes\n",
      "Epoch: 049/14999 | Loss: 0.0039 | Episodes: 7 | Win count: 38 | Win rate: 1.000 | time: 7.31 minutes\n",
      "Epoch: 050/14999 | Loss: 0.0100 | Episodes: 21 | Win count: 39 | Win rate: 1.000 | time: 7.36 minutes\n",
      "Epoch: 051/14999 | Loss: 0.0021 | Episodes: 6 | Win count: 40 | Win rate: 1.000 | time: 7.38 minutes\n",
      "Epoch: 052/14999 | Loss: 0.0088 | Episodes: 23 | Win count: 41 | Win rate: 1.000 | time: 7.44 minutes\n",
      "Epoch: 053/14999 | Loss: 0.0092 | Episodes: 25 | Win count: 42 | Win rate: 1.000 | time: 7.50 minutes\n",
      "Epoch: 054/14999 | Loss: 0.0082 | Episodes: 23 | Win count: 43 | Win rate: 1.000 | time: 7.55 minutes\n",
      "Epoch: 055/14999 | Loss: 0.0025 | Episodes: 9 | Win count: 44 | Win rate: 1.000 | time: 7.57 minutes\n",
      "Epoch: 056/14999 | Loss: 0.0011 | Episodes: 2 | Win count: 45 | Win rate: 1.000 | time: 7.58 minutes\n",
      "Epoch: 057/14999 | Loss: 0.0025 | Episodes: 8 | Win count: 46 | Win rate: 1.000 | time: 7.60 minutes\n",
      "Epoch: 058/14999 | Loss: 0.0007 | Episodes: 1 | Win count: 47 | Win rate: 1.000 | time: 7.61 minutes\n",
      "Epoch: 059/14999 | Loss: 0.0152 | Episodes: 35 | Win count: 48 | Win rate: 1.000 | time: 7.71 minutes\n",
      "Epoch: 060/14999 | Loss: 0.0005 | Episodes: 1 | Win count: 49 | Win rate: 1.000 | time: 7.72 minutes\n",
      "Epoch: 061/14999 | Loss: 0.0140 | Episodes: 36 | Win count: 50 | Win rate: 1.000 | time: 7.84 minutes\n",
      "Epoch: 062/14999 | Loss: 0.0124 | Episodes: 33 | Win count: 51 | Win rate: 1.000 | time: 7.98 minutes\n",
      "Epoch: 063/14999 | Loss: 0.0074 | Episodes: 21 | Win count: 52 | Win rate: 1.000 | time: 8.14 minutes\n",
      "Epoch: 064/14999 | Loss: 0.0033 | Episodes: 8 | Win count: 53 | Win rate: 1.000 | time: 8.21 minutes\n",
      "Epoch: 065/14999 | Loss: 0.0041 | Episodes: 11 | Win count: 54 | Win rate: 1.000 | time: 8.29 minutes\n",
      "Epoch: 066/14999 | Loss: 0.0026 | Episodes: 6 | Win count: 55 | Win rate: 1.000 | time: 8.34 minutes\n",
      "Epoch: 067/14999 | Loss: 0.0027 | Episodes: 7 | Win count: 56 | Win rate: 1.000 | time: 8.39 minutes\n",
      "Epoch: 068/14999 | Loss: 0.0019 | Episodes: 7 | Win count: 57 | Win rate: 1.000 | time: 8.44 minutes\n",
      "Epoch: 069/14999 | Loss: 0.0066 | Episodes: 20 | Win count: 58 | Win rate: 1.000 | time: 8.57 minutes\n",
      "Epoch: 070/14999 | Loss: 0.0043 | Episodes: 12 | Win count: 59 | Win rate: 1.000 | time: 8.66 minutes\n",
      "Epoch: 071/14999 | Loss: 0.0079 | Episodes: 23 | Win count: 60 | Win rate: 1.000 | time: 8.84 minutes\n",
      "Epoch: 072/14999 | Loss: 0.0124 | Episodes: 32 | Win count: 61 | Win rate: 1.000 | time: 9.05 minutes\n",
      "Epoch: 073/14999 | Loss: 0.0042 | Episodes: 13 | Win count: 62 | Win rate: 1.000 | time: 9.08 minutes\n",
      "Epoch: 074/14999 | Loss: 0.0053 | Episodes: 18 | Win count: 63 | Win rate: 1.000 | time: 9.14 minutes\n",
      "Epoch: 075/14999 | Loss: 0.0095 | Episodes: 26 | Win count: 64 | Win rate: 1.000 | time: 9.20 minutes\n",
      "Epoch: 076/14999 | Loss: 0.0002 | Episodes: 1 | Win count: 65 | Win rate: 1.000 | time: 9.21 minutes\n",
      "Epoch: 077/14999 | Loss: 0.0081 | Episodes: 28 | Win count: 66 | Win rate: 1.000 | time: 9.28 minutes\n",
      "Epoch: 078/14999 | Loss: 0.0062 | Episodes: 18 | Win count: 67 | Win rate: 1.000 | time: 9.32 minutes\n",
      "Epoch: 079/14999 | Loss: 0.0063 | Episodes: 24 | Win count: 68 | Win rate: 1.000 | time: 9.38 minutes\n",
      "Epoch: 080/14999 | Loss: 0.0100 | Episodes: 37 | Win count: 69 | Win rate: 1.000 | time: 9.46 minutes\n"
     ]
    },
    {
     "name": "stdout",
     "output_type": "stream",
     "text": [
      "Epoch: 081/14999 | Loss: 0.0109 | Episodes: 38 | Win count: 70 | Win rate: 1.000 | time: 9.55 minutes\n",
      "Epoch: 082/14999 | Loss: 0.0082 | Episodes: 34 | Win count: 71 | Win rate: 1.000 | time: 9.63 minutes\n",
      "Epoch: 083/14999 | Loss: 0.0001 | Episodes: 1 | Win count: 72 | Win rate: 1.000 | time: 9.64 minutes\n",
      "Epoch: 084/14999 | Loss: 0.0069 | Episodes: 26 | Win count: 73 | Win rate: 1.000 | time: 9.70 minutes\n",
      "Epoch: 085/14999 | Loss: 0.0056 | Episodes: 22 | Win count: 74 | Win rate: 1.000 | time: 9.75 minutes\n",
      "Epoch: 086/14999 | Loss: 0.0061 | Episodes: 26 | Win count: 75 | Win rate: 1.000 | time: 9.82 minutes\n",
      "Epoch: 087/14999 | Loss: 0.0070 | Episodes: 24 | Win count: 76 | Win rate: 1.000 | time: 9.89 minutes\n",
      "Epoch: 088/14999 | Loss: 0.0052 | Episodes: 26 | Win count: 77 | Win rate: 1.000 | time: 9.95 minutes\n",
      "Epoch: 089/14999 | Loss: 0.0051 | Episodes: 22 | Win count: 78 | Win rate: 1.000 | time: 10.01 minutes\n",
      "Epoch: 090/14999 | Loss: 0.0220 | Episodes: 86 | Win count: 79 | Win rate: 1.000 | time: 10.26 minutes\n",
      "Epoch: 091/14999 | Loss: 0.0021 | Episodes: 8 | Win count: 80 | Win rate: 1.000 | time: 10.31 minutes\n",
      "Epoch: 092/14999 | Loss: 0.0159 | Episodes: 62 | Win count: 81 | Win rate: 1.000 | time: 10.69 minutes\n",
      "Epoch: 093/14999 | Loss: 0.0025 | Episodes: 10 | Win count: 82 | Win rate: 1.000 | time: 10.75 minutes\n",
      "Epoch: 094/14999 | Loss: 0.0014 | Episodes: 7 | Win count: 83 | Win rate: 1.000 | time: 10.79 minutes\n",
      "Epoch: 095/14999 | Loss: 0.0047 | Episodes: 20 | Win count: 84 | Win rate: 1.000 | time: 10.91 minutes\n",
      "Epoch: 096/14999 | Loss: 0.0006 | Episodes: 5 | Win count: 85 | Win rate: 1.000 | time: 10.94 minutes\n",
      "Epoch: 097/14999 | Loss: 0.0004 | Episodes: 2 | Win count: 86 | Win rate: 1.000 | time: 10.96 minutes\n",
      "Epoch: 098/14999 | Loss: 0.0047 | Episodes: 21 | Win count: 87 | Win rate: 1.000 | time: 11.08 minutes\n",
      "Epoch: 099/14999 | Loss: 0.0018 | Episodes: 8 | Win count: 88 | Win rate: 1.000 | time: 11.13 minutes\n",
      "Epoch: 100/14999 | Loss: 0.0070 | Episodes: 29 | Win count: 89 | Win rate: 1.000 | time: 11.29 minutes\n",
      "Epoch: 101/14999 | Loss: 0.0002 | Episodes: 1 | Win count: 90 | Win rate: 1.000 | time: 11.30 minutes\n",
      "Epoch: 102/14999 | Loss: 0.0032 | Episodes: 20 | Win count: 91 | Win rate: 1.000 | time: 11.35 minutes\n",
      "Epoch: 103/14999 | Loss: 0.0041 | Episodes: 25 | Win count: 92 | Win rate: 1.000 | time: 11.41 minutes\n",
      "Epoch: 104/14999 | Loss: 0.0046 | Episodes: 25 | Win count: 93 | Win rate: 1.000 | time: 11.47 minutes\n",
      "Epoch: 105/14999 | Loss: 0.0094 | Episodes: 37 | Win count: 94 | Win rate: 1.000 | time: 11.56 minutes\n",
      "Epoch: 106/14999 | Loss: 0.0085 | Episodes: 37 | Win count: 95 | Win rate: 1.000 | time: 11.69 minutes\n",
      "Epoch: 107/14999 | Loss: 0.0082 | Episodes: 28 | Win count: 96 | Win rate: 1.000 | time: 11.76 minutes\n",
      "Epoch: 108/14999 | Loss: 0.0058 | Episodes: 25 | Win count: 97 | Win rate: 1.000 | time: 11.84 minutes\n",
      "Epoch: 109/14999 | Loss: 0.0043 | Episodes: 21 | Win count: 98 | Win rate: 1.000 | time: 11.89 minutes\n",
      "Epoch: 110/14999 | Loss: 0.0045 | Episodes: 19 | Win count: 99 | Win rate: 1.000 | time: 11.94 minutes\n",
      "Epoch: 111/14999 | Loss: 0.0001 | Episodes: 2 | Win count: 100 | Win rate: 1.000 | time: 11.95 minutes\n",
      "Epoch: 112/14999 | Loss: 0.0065 | Episodes: 29 | Win count: 101 | Win rate: 1.000 | time: 12.03 minutes\n",
      "Epoch: 113/14999 | Loss: 0.0018 | Episodes: 11 | Win count: 102 | Win rate: 1.000 | time: 12.07 minutes\n",
      "Epoch: 114/14999 | Loss: 0.0047 | Episodes: 24 | Win count: 103 | Win rate: 1.000 | time: 12.14 minutes\n",
      "Epoch: 115/14999 | Loss: 0.0069 | Episodes: 30 | Win count: 104 | Win rate: 1.000 | time: 12.21 minutes\n",
      "Epoch: 116/14999 | Loss: 0.0065 | Episodes: 26 | Win count: 105 | Win rate: 1.000 | time: 12.27 minutes\n",
      "Epoch: 117/14999 | Loss: 0.0008 | Episodes: 3 | Win count: 106 | Win rate: 1.000 | time: 12.28 minutes\n",
      "Epoch: 118/14999 | Loss: 0.0019 | Episodes: 8 | Win count: 107 | Win rate: 1.000 | time: 12.30 minutes\n",
      "Epoch: 119/14999 | Loss: 0.0002 | Episodes: 5 | Win count: 108 | Win rate: 1.000 | time: 12.32 minutes\n",
      "Epoch: 120/14999 | Loss: 0.0063 | Episodes: 30 | Win count: 109 | Win rate: 1.000 | time: 12.39 minutes\n",
      "Epoch: 121/14999 | Loss: 0.0025 | Episodes: 9 | Win count: 110 | Win rate: 1.000 | time: 12.41 minutes\n",
      "Epoch: 122/14999 | Loss: 0.0018 | Episodes: 7 | Win count: 111 | Win rate: 1.000 | time: 12.43 minutes\n",
      "Epoch: 123/14999 | Loss: 0.0084 | Episodes: 32 | Win count: 112 | Win rate: 1.000 | time: 12.51 minutes\n",
      "Epoch: 124/14999 | Loss: 0.0194 | Episodes: 55 | Win count: 113 | Win rate: 1.000 | time: 12.63 minutes\n",
      "Epoch: 125/14999 | Loss: 0.0009 | Episodes: 5 | Win count: 114 | Win rate: 1.000 | time: 12.65 minutes\n",
      "Epoch: 126/14999 | Loss: 0.0057 | Episodes: 17 | Win count: 115 | Win rate: 1.000 | time: 12.69 minutes\n",
      "Epoch: 127/14999 | Loss: 0.0050 | Episodes: 9 | Win count: 116 | Win rate: 1.000 | time: 12.71 minutes\n",
      "Epoch: 128/14999 | Loss: 0.0037 | Episodes: 9 | Win count: 117 | Win rate: 1.000 | time: 12.73 minutes\n",
      "Epoch: 129/14999 | Loss: 0.0028 | Episodes: 6 | Win count: 118 | Win rate: 1.000 | time: 12.75 minutes\n",
      "Epoch: 130/14999 | Loss: 0.0054 | Episodes: 17 | Win count: 119 | Win rate: 1.000 | time: 12.79 minutes\n",
      "Epoch: 131/14999 | Loss: 0.0068 | Episodes: 20 | Win count: 120 | Win rate: 1.000 | time: 12.84 minutes\n",
      "Epoch: 132/14999 | Loss: 0.0076 | Episodes: 28 | Win count: 121 | Win rate: 1.000 | time: 12.90 minutes\n",
      "Epoch: 133/14999 | Loss: 0.0076 | Episodes: 29 | Win count: 122 | Win rate: 1.000 | time: 12.97 minutes\n",
      "Epoch: 134/14999 | Loss: 0.0018 | Episodes: 7 | Win count: 123 | Win rate: 1.000 | time: 12.99 minutes\n",
      "Epoch: 135/14999 | Loss: 0.0009 | Episodes: 5 | Win count: 124 | Win rate: 1.000 | time: 13.01 minutes\n",
      "Epoch: 136/14999 | Loss: 0.0027 | Episodes: 8 | Win count: 125 | Win rate: 1.000 | time: 13.03 minutes\n",
      "Epoch: 137/14999 | Loss: 0.0017 | Episodes: 8 | Win count: 126 | Win rate: 1.000 | time: 13.05 minutes\n",
      "Epoch: 138/14999 | Loss: 0.0038 | Episodes: 12 | Win count: 127 | Win rate: 1.000 | time: 13.08 minutes\n",
      "Epoch: 139/14999 | Loss: 0.0073 | Episodes: 18 | Win count: 128 | Win rate: 1.000 | time: 13.12 minutes\n",
      "Epoch: 140/14999 | Loss: 0.0104 | Episodes: 26 | Win count: 129 | Win rate: 1.000 | time: 13.20 minutes\n",
      "Epoch: 141/14999 | Loss: 0.0054 | Episodes: 17 | Win count: 130 | Win rate: 1.000 | time: 13.24 minutes\n",
      "Epoch: 142/14999 | Loss: 0.0009 | Episodes: 1 | Win count: 131 | Win rate: 1.000 | time: 13.25 minutes\n",
      "Epoch: 143/14999 | Loss: 0.0061 | Episodes: 26 | Win count: 132 | Win rate: 1.000 | time: 13.31 minutes\n",
      "Epoch: 144/14999 | Loss: 0.0024 | Episodes: 6 | Win count: 133 | Win rate: 1.000 | time: 13.32 minutes\n",
      "Epoch: 145/14999 | Loss: 0.0028 | Episodes: 11 | Win count: 134 | Win rate: 1.000 | time: 13.35 minutes\n",
      "Epoch: 146/14999 | Loss: 0.0006 | Episodes: 2 | Win count: 135 | Win rate: 1.000 | time: 13.36 minutes\n",
      "Epoch: 147/14999 | Loss: 0.0020 | Episodes: 9 | Win count: 136 | Win rate: 1.000 | time: 13.38 minutes\n",
      "Epoch: 148/14999 | Loss: 0.0065 | Episodes: 31 | Win count: 137 | Win rate: 1.000 | time: 13.46 minutes\n",
      "Epoch: 149/14999 | Loss: 0.0033 | Episodes: 15 | Win count: 138 | Win rate: 1.000 | time: 13.49 minutes\n",
      "Epoch: 150/14999 | Loss: 0.0011 | Episodes: 6 | Win count: 139 | Win rate: 1.000 | time: 13.51 minutes\n",
      "Epoch: 151/14999 | Loss: 0.0051 | Episodes: 33 | Win count: 140 | Win rate: 1.000 | time: 13.59 minutes\n",
      "Epoch: 152/14999 | Loss: 0.0008 | Episodes: 5 | Win count: 141 | Win rate: 1.000 | time: 13.60 minutes\n",
      "Epoch: 153/14999 | Loss: 0.0026 | Episodes: 9 | Win count: 142 | Win rate: 1.000 | time: 13.63 minutes\n",
      "Epoch: 154/14999 | Loss: 0.0074 | Episodes: 26 | Win count: 143 | Win rate: 1.000 | time: 13.69 minutes\n",
      "Epoch: 155/14999 | Loss: 0.0080 | Episodes: 29 | Win count: 144 | Win rate: 1.000 | time: 13.75 minutes\n",
      "Epoch: 156/14999 | Loss: 0.0000 | Episodes: 1 | Win count: 145 | Win rate: 1.000 | time: 13.76 minutes\n",
      "Epoch: 157/14999 | Loss: 0.0015 | Episodes: 4 | Win count: 146 | Win rate: 1.000 | time: 13.77 minutes\n",
      "Epoch: 158/14999 | Loss: 0.0117 | Episodes: 51 | Win count: 147 | Win rate: 1.000 | time: 13.89 minutes\n",
      "Epoch: 159/14999 | Loss: 0.0035 | Episodes: 13 | Win count: 148 | Win rate: 1.000 | time: 13.93 minutes\n",
      "Epoch: 160/14999 | Loss: 0.0059 | Episodes: 28 | Win count: 149 | Win rate: 1.000 | time: 14.00 minutes\n"
     ]
    },
    {
     "name": "stdout",
     "output_type": "stream",
     "text": [
      "Epoch: 161/14999 | Loss: 0.0038 | Episodes: 18 | Win count: 150 | Win rate: 1.000 | time: 14.05 minutes\n",
      "Epoch: 162/14999 | Loss: 0.0007 | Episodes: 3 | Win count: 151 | Win rate: 1.000 | time: 14.07 minutes\n",
      "Epoch: 163/14999 | Loss: 0.0010 | Episodes: 8 | Win count: 152 | Win rate: 1.000 | time: 14.10 minutes\n",
      "Epoch: 164/14999 | Loss: 0.0084 | Episodes: 41 | Win count: 153 | Win rate: 1.000 | time: 14.21 minutes\n",
      "Epoch: 165/14999 | Loss: 0.0043 | Episodes: 32 | Win count: 154 | Win rate: 1.000 | time: 14.32 minutes\n",
      "Epoch: 166/14999 | Loss: 0.0029 | Episodes: 13 | Win count: 155 | Win rate: 1.000 | time: 14.35 minutes\n",
      "Epoch: 167/14999 | Loss: 0.0039 | Episodes: 25 | Win count: 156 | Win rate: 1.000 | time: 14.43 minutes\n",
      "Epoch: 168/14999 | Loss: 0.0038 | Episodes: 19 | Win count: 157 | Win rate: 1.000 | time: 14.48 minutes\n",
      "Epoch: 169/14999 | Loss: 0.0013 | Episodes: 10 | Win count: 158 | Win rate: 1.000 | time: 14.51 minutes\n",
      "Epoch: 170/14999 | Loss: 0.0055 | Episodes: 38 | Win count: 159 | Win rate: 1.000 | time: 14.61 minutes\n",
      "Epoch: 171/14999 | Loss: 0.0017 | Episodes: 9 | Win count: 160 | Win rate: 1.000 | time: 14.65 minutes\n",
      "Epoch: 172/14999 | Loss: 0.0014 | Episodes: 13 | Win count: 161 | Win rate: 1.000 | time: 14.69 minutes\n",
      "Epoch: 173/14999 | Loss: 0.0027 | Episodes: 9 | Win count: 162 | Win rate: 1.000 | time: 14.73 minutes\n",
      "Epoch: 174/14999 | Loss: 0.0045 | Episodes: 21 | Win count: 163 | Win rate: 1.000 | time: 14.78 minutes\n",
      "Epoch: 175/14999 | Loss: 0.0010 | Episodes: 4 | Win count: 164 | Win rate: 1.000 | time: 14.80 minutes\n",
      "Epoch: 176/14999 | Loss: 0.0029 | Episodes: 14 | Win count: 165 | Win rate: 1.000 | time: 14.86 minutes\n",
      "Epoch: 177/14999 | Loss: 0.0040 | Episodes: 11 | Win count: 166 | Win rate: 1.000 | time: 14.89 minutes\n",
      "Epoch: 178/14999 | Loss: 0.0044 | Episodes: 23 | Win count: 167 | Win rate: 1.000 | time: 14.97 minutes\n",
      "Epoch: 179/14999 | Loss: 0.0055 | Episodes: 26 | Win count: 168 | Win rate: 1.000 | time: 15.05 minutes\n",
      "Epoch: 180/14999 | Loss: 0.0028 | Episodes: 20 | Win count: 169 | Win rate: 1.000 | time: 15.11 minutes\n",
      "Epoch: 181/14999 | Loss: 0.0029 | Episodes: 8 | Win count: 170 | Win rate: 1.000 | time: 15.15 minutes\n",
      "Epoch: 182/14999 | Loss: 0.0100 | Episodes: 39 | Win count: 171 | Win rate: 1.000 | time: 15.32 minutes\n",
      "Epoch: 183/14999 | Loss: 0.0027 | Episodes: 10 | Win count: 172 | Win rate: 1.000 | time: 15.38 minutes\n",
      "Epoch: 184/14999 | Loss: 0.0071 | Episodes: 19 | Win count: 173 | Win rate: 1.000 | time: 15.49 minutes\n",
      "Epoch: 185/14999 | Loss: 0.0103 | Episodes: 34 | Win count: 174 | Win rate: 1.000 | time: 15.68 minutes\n",
      "Epoch: 186/14999 | Loss: 0.0016 | Episodes: 4 | Win count: 175 | Win rate: 1.000 | time: 15.71 minutes\n",
      "Epoch: 187/14999 | Loss: 0.0079 | Episodes: 28 | Win count: 176 | Win rate: 1.000 | time: 15.85 minutes\n",
      "Epoch: 188/14999 | Loss: 0.0008 | Episodes: 2 | Win count: 177 | Win rate: 1.000 | time: 15.86 minutes\n",
      "Epoch: 189/14999 | Loss: 0.0108 | Episodes: 27 | Win count: 178 | Win rate: 1.000 | time: 16.03 minutes\n",
      "Epoch: 190/14999 | Loss: 0.0012 | Episodes: 4 | Win count: 179 | Win rate: 1.000 | time: 16.05 minutes\n",
      "Epoch: 191/14999 | Loss: 0.0227 | Episodes: 57 | Win count: 180 | Win rate: 1.000 | time: 16.31 minutes\n",
      "Epoch: 192/14999 | Loss: 0.0022 | Episodes: 5 | Win count: 181 | Win rate: 1.000 | time: 16.32 minutes\n",
      "Epoch: 193/14999 | Loss: 0.0036 | Episodes: 9 | Win count: 182 | Win rate: 1.000 | time: 16.35 minutes\n",
      "Epoch: 194/14999 | Loss: 0.0174 | Episodes: 41 | Win count: 183 | Win rate: 1.000 | time: 16.49 minutes\n",
      "Epoch: 195/14999 | Loss: 0.0245 | Episodes: 59 | Win count: 184 | Win rate: 1.000 | time: 16.64 minutes\n",
      "Epoch: 196/14999 | Loss: 0.0116 | Episodes: 21 | Win count: 185 | Win rate: 1.000 | time: 16.70 minutes\n",
      "Epoch: 197/14999 | Loss: 0.0061 | Episodes: 11 | Win count: 186 | Win rate: 1.000 | time: 16.73 minutes\n",
      "Epoch: 198/14999 | Loss: 0.0104 | Episodes: 21 | Win count: 187 | Win rate: 1.000 | time: 16.78 minutes\n",
      "Epoch: 199/14999 | Loss: 0.0073 | Episodes: 15 | Win count: 188 | Win rate: 1.000 | time: 16.82 minutes\n",
      "Epoch: 200/14999 | Loss: 0.0169 | Episodes: 33 | Win count: 189 | Win rate: 1.000 | time: 16.91 minutes\n",
      "Epoch: 201/14999 | Loss: 0.0103 | Episodes: 18 | Win count: 190 | Win rate: 1.000 | time: 16.95 minutes\n",
      "Epoch: 202/14999 | Loss: 0.0160 | Episodes: 31 | Win count: 191 | Win rate: 1.000 | time: 17.03 minutes\n",
      "Epoch: 203/14999 | Loss: 0.0177 | Episodes: 37 | Win count: 192 | Win rate: 1.000 | time: 17.12 minutes\n",
      "Epoch: 204/14999 | Loss: 0.0031 | Episodes: 5 | Win count: 193 | Win rate: 1.000 | time: 17.13 minutes\n",
      "Epoch: 205/14999 | Loss: 0.0073 | Episodes: 13 | Win count: 194 | Win rate: 1.000 | time: 17.17 minutes\n",
      "Epoch: 206/14999 | Loss: 0.0124 | Episodes: 25 | Win count: 195 | Win rate: 1.000 | time: 17.24 minutes\n",
      "Epoch: 207/14999 | Loss: 0.0149 | Episodes: 31 | Win count: 196 | Win rate: 1.000 | time: 17.32 minutes\n",
      "Epoch: 208/14999 | Loss: 0.0112 | Episodes: 26 | Win count: 197 | Win rate: 1.000 | time: 17.38 minutes\n",
      "Epoch: 209/14999 | Loss: 0.0017 | Episodes: 2 | Win count: 198 | Win rate: 1.000 | time: 17.39 minutes\n",
      "Epoch: 210/14999 | Loss: 0.0014 | Episodes: 3 | Win count: 199 | Win rate: 1.000 | time: 17.40 minutes\n",
      "Epoch: 211/14999 | Loss: 0.0186 | Episodes: 35 | Win count: 200 | Win rate: 1.000 | time: 17.49 minutes\n",
      "Epoch: 212/14999 | Loss: 0.0186 | Episodes: 33 | Win count: 201 | Win rate: 1.000 | time: 17.58 minutes\n",
      "Epoch: 213/14999 | Loss: 0.0045 | Episodes: 8 | Win count: 202 | Win rate: 1.000 | time: 17.61 minutes\n",
      "Epoch: 214/14999 | Loss: 0.0197 | Episodes: 34 | Win count: 203 | Win rate: 1.000 | time: 17.69 minutes\n",
      "Epoch: 215/14999 | Loss: 0.0106 | Episodes: 21 | Win count: 204 | Win rate: 1.000 | time: 17.75 minutes\n",
      "Epoch: 216/14999 | Loss: 0.0046 | Episodes: 13 | Win count: 205 | Win rate: 1.000 | time: 17.79 minutes\n",
      "Epoch: 217/14999 | Loss: 0.0081 | Episodes: 22 | Win count: 206 | Win rate: 1.000 | time: 17.85 minutes\n",
      "Epoch: 218/14999 | Loss: 0.0027 | Episodes: 4 | Win count: 207 | Win rate: 1.000 | time: 17.86 minutes\n",
      "Epoch: 219/14999 | Loss: 0.0061 | Episodes: 14 | Win count: 208 | Win rate: 1.000 | time: 17.91 minutes\n",
      "Epoch: 220/14999 | Loss: 0.0090 | Episodes: 25 | Win count: 209 | Win rate: 1.000 | time: 17.97 minutes\n",
      "Epoch: 221/14999 | Loss: 0.0163 | Episodes: 40 | Win count: 210 | Win rate: 1.000 | time: 18.07 minutes\n",
      "Epoch: 222/14999 | Loss: 0.0125 | Episodes: 28 | Win count: 211 | Win rate: 1.000 | time: 18.15 minutes\n",
      "Epoch: 223/14999 | Loss: 0.0116 | Episodes: 28 | Win count: 212 | Win rate: 1.000 | time: 18.22 minutes\n",
      "Epoch: 224/14999 | Loss: 0.0096 | Episodes: 25 | Win count: 213 | Win rate: 1.000 | time: 18.29 minutes\n",
      "Epoch: 225/14999 | Loss: 0.0153 | Episodes: 34 | Win count: 214 | Win rate: 1.000 | time: 18.38 minutes\n",
      "Epoch: 226/14999 | Loss: 0.0114 | Episodes: 29 | Win count: 215 | Win rate: 1.000 | time: 18.45 minutes\n",
      "Epoch: 227/14999 | Loss: 0.0014 | Episodes: 4 | Win count: 216 | Win rate: 1.000 | time: 18.47 minutes\n",
      "Epoch: 228/14999 | Loss: 0.0029 | Episodes: 10 | Win count: 217 | Win rate: 1.000 | time: 18.50 minutes\n",
      "Epoch: 229/14999 | Loss: 0.0093 | Episodes: 30 | Win count: 218 | Win rate: 1.000 | time: 18.58 minutes\n",
      "Epoch: 230/14999 | Loss: 0.0085 | Episodes: 25 | Win count: 219 | Win rate: 1.000 | time: 18.67 minutes\n",
      "Epoch: 231/14999 | Loss: 0.0000 | Episodes: 1 | Win count: 220 | Win rate: 1.000 | time: 18.68 minutes\n",
      "Epoch: 232/14999 | Loss: 0.0050 | Episodes: 12 | Win count: 221 | Win rate: 1.000 | time: 18.72 minutes\n",
      "Epoch: 233/14999 | Loss: 0.0152 | Episodes: 39 | Win count: 222 | Win rate: 1.000 | time: 18.84 minutes\n",
      "Epoch: 234/14999 | Loss: 0.0047 | Episodes: 13 | Win count: 223 | Win rate: 1.000 | time: 18.88 minutes\n",
      "Epoch: 235/14999 | Loss: 0.0094 | Episodes: 25 | Win count: 224 | Win rate: 1.000 | time: 18.95 minutes\n",
      "Epoch: 236/14999 | Loss: 0.0047 | Episodes: 17 | Win count: 225 | Win rate: 1.000 | time: 19.00 minutes\n",
      "Epoch: 237/14999 | Loss: 0.0076 | Episodes: 27 | Win count: 226 | Win rate: 1.000 | time: 19.07 minutes\n",
      "Epoch: 238/14999 | Loss: 0.0006 | Episodes: 3 | Win count: 227 | Win rate: 1.000 | time: 19.09 minutes\n",
      "Epoch: 239/14999 | Loss: 0.0061 | Episodes: 25 | Win count: 228 | Win rate: 1.000 | time: 19.16 minutes\n"
     ]
    },
    {
     "name": "stdout",
     "output_type": "stream",
     "text": [
      "Epoch: 240/14999 | Loss: 0.0004 | Episodes: 3 | Win count: 229 | Win rate: 1.000 | time: 19.17 minutes\n",
      "Epoch: 241/14999 | Loss: 0.0074 | Episodes: 29 | Win count: 230 | Win rate: 1.000 | time: 19.25 minutes\n",
      "Epoch: 242/14999 | Loss: 0.0079 | Episodes: 30 | Win count: 231 | Win rate: 1.000 | time: 19.33 minutes\n",
      "Epoch: 243/14999 | Loss: 0.0058 | Episodes: 18 | Win count: 232 | Win rate: 1.000 | time: 19.38 minutes\n",
      "Epoch: 244/14999 | Loss: 0.0037 | Episodes: 16 | Win count: 233 | Win rate: 1.000 | time: 19.43 minutes\n",
      "Epoch: 245/14999 | Loss: 0.0037 | Episodes: 14 | Win count: 234 | Win rate: 1.000 | time: 19.47 minutes\n",
      "Epoch: 246/14999 | Loss: 0.0005 | Episodes: 3 | Win count: 235 | Win rate: 1.000 | time: 19.48 minutes\n",
      "Epoch: 247/14999 | Loss: 0.0056 | Episodes: 21 | Win count: 236 | Win rate: 1.000 | time: 19.54 minutes\n",
      "Epoch: 248/14999 | Loss: 0.0016 | Episodes: 9 | Win count: 237 | Win rate: 1.000 | time: 19.57 minutes\n",
      "Epoch: 249/14999 | Loss: 0.0032 | Episodes: 14 | Win count: 238 | Win rate: 1.000 | time: 19.62 minutes\n",
      "Epoch: 250/14999 | Loss: 0.0062 | Episodes: 30 | Win count: 239 | Win rate: 1.000 | time: 19.71 minutes\n",
      "Epoch: 251/14999 | Loss: 0.0000 | Episodes: 1 | Win count: 240 | Win rate: 1.000 | time: 19.72 minutes\n",
      "Epoch: 252/14999 | Loss: 0.0054 | Episodes: 25 | Win count: 241 | Win rate: 1.000 | time: 19.79 minutes\n",
      "Epoch: 253/14999 | Loss: 0.0032 | Episodes: 19 | Win count: 242 | Win rate: 1.000 | time: 19.85 minutes\n",
      "Epoch: 254/14999 | Loss: 0.0006 | Episodes: 2 | Win count: 243 | Win rate: 1.000 | time: 19.85 minutes\n",
      "Epoch: 255/14999 | Loss: 0.0053 | Episodes: 20 | Win count: 244 | Win rate: 1.000 | time: 19.90 minutes\n",
      "Epoch: 256/14999 | Loss: 0.0022 | Episodes: 9 | Win count: 245 | Win rate: 1.000 | time: 19.93 minutes\n",
      "Epoch: 257/14999 | Loss: 0.0013 | Episodes: 4 | Win count: 246 | Win rate: 1.000 | time: 19.95 minutes\n",
      "Epoch: 258/14999 | Loss: 0.0054 | Episodes: 27 | Win count: 247 | Win rate: 1.000 | time: 20.03 minutes\n",
      "Epoch: 259/14999 | Loss: 0.0069 | Episodes: 28 | Win count: 248 | Win rate: 1.000 | time: 20.11 minutes\n",
      "Epoch: 260/14999 | Loss: 0.0045 | Episodes: 19 | Win count: 249 | Win rate: 1.000 | time: 20.17 minutes\n",
      "Epoch: 261/14999 | Loss: 0.0051 | Episodes: 19 | Win count: 250 | Win rate: 1.000 | time: 20.28 minutes\n",
      "Epoch: 262/14999 | Loss: 0.0037 | Episodes: 18 | Win count: 251 | Win rate: 1.000 | time: 20.38 minutes\n",
      "Epoch: 263/14999 | Loss: 0.0014 | Episodes: 6 | Win count: 252 | Win rate: 1.000 | time: 20.43 minutes\n",
      "Epoch: 264/14999 | Loss: 0.0049 | Episodes: 27 | Win count: 253 | Win rate: 1.000 | time: 20.59 minutes\n",
      "Epoch: 265/14999 | Loss: 0.0067 | Episodes: 31 | Win count: 254 | Win rate: 1.000 | time: 20.79 minutes\n",
      "Epoch: 266/14999 | Loss: 0.0010 | Episodes: 3 | Win count: 255 | Win rate: 1.000 | time: 20.83 minutes\n",
      "Epoch: 267/14999 | Loss: 0.0049 | Episodes: 24 | Win count: 256 | Win rate: 1.000 | time: 21.00 minutes\n",
      "Epoch: 268/14999 | Loss: 0.0025 | Episodes: 9 | Win count: 257 | Win rate: 1.000 | time: 21.07 minutes\n",
      "Epoch: 269/14999 | Loss: 0.0084 | Episodes: 29 | Win count: 258 | Win rate: 1.000 | time: 21.24 minutes\n",
      "Epoch: 270/14999 | Loss: 0.0003 | Episodes: 1 | Win count: 259 | Win rate: 1.000 | time: 21.25 minutes\n",
      "Epoch: 271/14999 | Loss: 0.0049 | Episodes: 30 | Win count: 260 | Win rate: 1.000 | time: 21.41 minutes\n",
      "Epoch: 272/14999 | Loss: 0.0042 | Episodes: 23 | Win count: 261 | Win rate: 1.000 | time: 21.52 minutes\n",
      "Epoch: 273/14999 | Loss: 0.0042 | Episodes: 19 | Win count: 262 | Win rate: 1.000 | time: 21.62 minutes\n",
      "Epoch: 274/14999 | Loss: 0.0039 | Episodes: 19 | Win count: 263 | Win rate: 1.000 | time: 21.72 minutes\n",
      "Epoch: 275/14999 | Loss: 0.0013 | Episodes: 8 | Win count: 264 | Win rate: 1.000 | time: 21.77 minutes\n",
      "Epoch: 276/14999 | Loss: 0.0006 | Episodes: 2 | Win count: 265 | Win rate: 1.000 | time: 21.79 minutes\n",
      "Epoch: 277/14999 | Loss: 0.0044 | Episodes: 25 | Win count: 266 | Win rate: 1.000 | time: 21.92 minutes\n",
      "Epoch: 278/14999 | Loss: 0.0050 | Episodes: 30 | Win count: 267 | Win rate: 1.000 | time: 22.08 minutes\n",
      "Epoch: 279/14999 | Loss: 0.0032 | Episodes: 13 | Win count: 268 | Win rate: 1.000 | time: 22.15 minutes\n",
      "Epoch: 280/14999 | Loss: 0.0059 | Episodes: 27 | Win count: 269 | Win rate: 1.000 | time: 22.28 minutes\n",
      "Epoch: 281/14999 | Loss: 0.0021 | Episodes: 7 | Win count: 270 | Win rate: 1.000 | time: 22.32 minutes\n",
      "Epoch: 282/14999 | Loss: 0.0025 | Episodes: 16 | Win count: 271 | Win rate: 1.000 | time: 22.42 minutes\n",
      "Epoch: 283/14999 | Loss: 0.0016 | Episodes: 8 | Win count: 272 | Win rate: 1.000 | time: 22.46 minutes\n",
      "Epoch: 284/14999 | Loss: 0.0026 | Episodes: 19 | Win count: 273 | Win rate: 1.000 | time: 22.56 minutes\n",
      "Epoch: 285/14999 | Loss: 0.0056 | Episodes: 24 | Win count: 274 | Win rate: 1.000 | time: 22.69 minutes\n",
      "Epoch: 286/14999 | Loss: 0.0018 | Episodes: 9 | Win count: 275 | Win rate: 1.000 | time: 22.74 minutes\n",
      "Epoch: 287/14999 | Loss: 0.0062 | Episodes: 28 | Win count: 276 | Win rate: 1.000 | time: 22.88 minutes\n",
      "Epoch: 288/14999 | Loss: 0.0066 | Episodes: 38 | Win count: 277 | Win rate: 1.000 | time: 23.09 minutes\n",
      "Reached 100% win rate at epoch: 288\n",
      "n_epoch: 288, max_mem: 512, data: 32, time: 23.10 minutes\n"
     ]
    },
    {
     "data": {
      "text/plain": [
       "1386.04724"
      ]
     },
     "execution_count": 11,
     "metadata": {},
     "output_type": "execute_result"
    }
   ],
   "source": [
    "model = build_model(maze)\n",
    "qtrain(model, maze, epochs=1000, max_memory=8*maze.size, data_size=32)"
   ]
  },
  {
   "cell_type": "markdown",
   "metadata": {},
   "source": [
    "This cell will check to see if the model passes the completion check. Note: This could take several minutes."
   ]
  },
  {
   "cell_type": "code",
   "execution_count": 12,
   "metadata": {},
   "outputs": [
    {
     "data": {
      "text/plain": [
       "<matplotlib.image.AxesImage at 0x22074d4f6c8>"
      ]
     },
     "execution_count": 12,
     "metadata": {},
     "output_type": "execute_result"
    },
    {
     "data": {
      "image/png": "[encoded data removed]",
      "text/plain": [
       "<Figure size 432x288 with 1 Axes>"
      ]
     },
     "metadata": {
      "needs_background": "light"
     },
     "output_type": "display_data"
    }
   ],
   "source": [
    "completion_check(model, qmaze)\n",
    "show(qmaze)"
   ]
  },
  {
   "cell_type": "markdown",
   "metadata": {},
   "source": [
    "This cell will test your model for one game. It will start the pirate at the top-left corner and run play_game. The agent should find a path from the starting position to the target (treasure). The treasure is located in the bottom-right corner."
   ]
  },
  {
   "cell_type": "code",
   "execution_count": 13,
   "metadata": {},
   "outputs": [
    {
     "data": {
      "text/plain": [
       "<matplotlib.image.AxesImage at 0x22074871708>"
      ]
     },
     "execution_count": 13,
     "metadata": {},
     "output_type": "execute_result"
    },
    {
     "data": {
      "image/png": "[encoded data removed]",
      "text/plain": [
       "<Figure size 432x288 with 1 Axes>"
      ]
     },
     "metadata": {
      "needs_background": "light"
     },
     "output_type": "display_data"
    }
   ],
   "source": [
    "pirate_start = (0, 0)\n",
    "play_game(model, qmaze, pirate_start)\n",
    "show(qmaze)"
   ]
  },
  {
   "cell_type": "markdown",
   "metadata": {},
   "source": [
    "## Save and Submit Your Work\n",
    "After you have finished creating the code for your notebook, save your work. Make sure that your notebook contains your name in the filename (e.g. Doe_Jane_ProjectTwo.ipynb). This will help your instructor access and grade your work easily. Download a copy of your IPYNB file and submit it to Brightspace. Refer to the Jupyter Notebook in Apporto Tutorial if you need help with these tasks."
   ]
  }
 ],
 "metadata": {
  "kernelspec": {
   "display_name": "Python 3 (ipykernel)",
   "language": "python",
   "name": "python3"
  },
  "language_info": {
   "codemirror_mode": {
    "name": "ipython",
    "version": 3
   },
   "file_extension": ".py",
   "mimetype": "text/x-python",
   "name": "python",
   "nbconvert_exporter": "python",
   "pygments_lexer": "ipython3",
   "version": "3.11.4"
  }
 },
 "nbformat": 4,
 "nbformat_minor": 4
}
